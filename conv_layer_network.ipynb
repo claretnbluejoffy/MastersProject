{
  "nbformat": 4,
  "nbformat_minor": 0,
  "metadata": {
    "colab": {
      "name": "conv_layer_network.ipynb",
      "provenance": [],
      "include_colab_link": true
    },
    "kernelspec": {
      "name": "python3",
      "display_name": "Python 3"
    },
    "accelerator": "GPU"
  },
  "cells": [
    {
      "cell_type": "markdown",
      "metadata": {
        "id": "view-in-github",
        "colab_type": "text"
      },
      "source": [
        "<a href=\"https://colab.research.google.com/github/claretnbluejoffy/MastersProject/blob/main/conv_layer_network.ipynb\" target=\"_parent\"><img src=\"https://colab.research.google.com/assets/colab-badge.svg\" alt=\"Open In Colab\"/></a>"
      ]
    },
    {
      "cell_type": "code",
      "metadata": {
        "id": "q5WNYWJck-Zg"
      },
      "source": [
        "\n",
        "import matplotlib.pyplot as plt\n",
        "import numpy as np\n",
        "import tensorflow as tf\n",
        "\n",
        "np.set_printoptions(suppress=True)\n",
        "\n"
      ],
      "execution_count": null,
      "outputs": []
    },
    {
      "cell_type": "code",
      "metadata": {
        "id": "AfEQW5lslUCE"
      },
      "source": [
        "(x_train, y_train),(x_test, y_test) = tf.keras.datasets.cifar10.load_data()\n",
        "labels=['airplane','automobile','bird','cat','deer','dog','frog','horse','ship','truck']"
      ],
      "execution_count": null,
      "outputs": []
    },
    {
      "cell_type": "code",
      "metadata": {
        "id": "E09CrkesnPxa",
        "outputId": "3b978dd8-44ab-413e-deaa-20ac4d6a42e3",
        "colab": {
          "base_uri": "https://localhost:8080/",
          "height": 173
        }
      },
      "source": [
        "i=2500\n",
        "label = y_train[i]\n",
        "image = x_train[i]\n",
        "plt.figure(figsize=(2,2))\n",
        "plt.grid(False)\n",
        "plt.title((labels[int(label)]))\n",
        "plt.imshow(image)\n",
        "plt.show()"
      ],
      "execution_count": null,
      "outputs": [
        {
          "output_type": "display_data",
          "data": {
            "image/png": "[encoded data removed]",
            "text/plain": [
              "<Figure size 144x144 with 1 Axes>"
            ]
          },
          "metadata": {
            "tags": [],
            "needs_background": "light"
          }
        }
      ]
    },
    {
      "cell_type": "code",
      "metadata": {
        "id": "TdOFj5_WnRzp"
      },
      "source": [
        "y_input = tf.keras.utils.to_categorical(y_train)\n",
        "x_input = (x_train/255.0).astype(np.float32)"
      ],
      "execution_count": null,
      "outputs": []
    },
    {
      "cell_type": "code",
      "metadata": {
        "id": "r9yaiAiKn2sX"
      },
      "source": [
        "conv_layer = tf.keras.layers.Conv2D(filters=16, kernel_size=(3,3),activation=tf.nn.relu,padding='same')\n",
        "flat_layer = tf.keras.layers.Flatten()\n",
        "dense_layer = tf.keras.layers.Dense(units=32,activation=tf.nn.relu)\n",
        "logits_layer = tf.keras.layers.Dense(units=10,activation=tf.nn.softmax)\n"
      ],
      "execution_count": null,
      "outputs": []
    },
    {
      "cell_type": "code",
      "metadata": {
        "id": "OM9wqP6YoNyw"
      },
      "source": [
        "def predict(x):\n",
        "    x = conv_layer(x)\n",
        "    x = flat_layer(x)\n",
        "    x = dense_layer(x)\n",
        "    output_layer = logits_layer(x)\n",
        "\n",
        "    return output_layer"
      ],
      "execution_count": null,
      "outputs": []
    },
    {
      "cell_type": "code",
      "metadata": {
        "id": "gkCynL4xoeGG"
      },
      "source": [
        "@tf.function\n",
        "def loss(x,y):\n",
        "    y_ = predict(x)\n",
        "    cross_entropy = tf.reduce_mean(-tf.reduce_sum(y * tf.math.log(y_), axis=[1]))\n",
        "    return cross_entropy"
      ],
      "execution_count": null,
      "outputs": []
    },
    {
      "cell_type": "code",
      "metadata": {
        "id": "ptUlet5Gom6g"
      },
      "source": [
        "lr = 0.0001\n",
        "train_steps = 1000\n",
        "# we'll use the Adam optimizer instead of gradient descent.\n",
        "optimizer = tf.optimizers.Adam(lr)"
      ],
      "execution_count": null,
      "outputs": []
    },
    {
      "cell_type": "code",
      "metadata": {
        "id": "PG3dZVwEoqLT",
        "outputId": "3e85df46-b604-4611-a109-11f4eccecbb0",
        "colab": {
          "base_uri": "https://localhost:8080/",
          "height": 191
        }
      },
      "source": [
        "for i in range(train_steps):\n",
        "    with tf.GradientTape() as tape:\n",
        "        current_loss = loss(x_input,y_input)\n",
        "        gradients = tape.gradient(current_loss, tape.watched_variables())\n",
        "        optimizer.apply_gradients(zip(gradients, tape.watched_variables()))\n",
        "        if i%100 == 0:\n",
        "            print('Training Step:' + str(i) + ' Loss = ' + str(current_loss))"
      ],
      "execution_count": null,
      "outputs": [
        {
          "output_type": "stream",
          "text": [
            "Training Step:0 Loss = tf.Tensor(2.4638598, shape=(), dtype=float32)\n",
            "Training Step:100 Loss = tf.Tensor(1.9042103, shape=(), dtype=float32)\n",
            "Training Step:200 Loss = tf.Tensor(1.7396367, shape=(), dtype=float32)\n",
            "Training Step:300 Loss = tf.Tensor(1.607892, shape=(), dtype=float32)\n",
            "Training Step:400 Loss = tf.Tensor(1.4829993, shape=(), dtype=float32)\n",
            "Training Step:500 Loss = tf.Tensor(1.3707719, shape=(), dtype=float32)\n",
            "Training Step:600 Loss = tf.Tensor(1.2948655, shape=(), dtype=float32)\n",
            "Training Step:700 Loss = tf.Tensor(1.2439791, shape=(), dtype=float32)\n",
            "Training Step:800 Loss = tf.Tensor(1.2044584, shape=(), dtype=float32)\n",
            "Training Step:900 Loss = tf.Tensor(1.1714169, shape=(), dtype=float32)\n"
          ],
          "name": "stdout"
        }
      ]
    },
    {
      "cell_type": "code",
      "metadata": {
        "id": "U-qR8D2opBDh",
        "outputId": "e46f0a16-dd20-46ef-f751-7dfec7af93ba",
        "colab": {
          "base_uri": "https://localhost:8080/",
          "height": 52
        }
      },
      "source": [
        "y_prob = predict(x_input).numpy()\n",
        "\n",
        "print(y_prob.shape)\n",
        "y_pred = np.argmax(y_prob,axis=-1)\n",
        "print('train accuracy: ', np.sum(y_pred==y_train[:,0])/len(y_train))"
      ],
      "execution_count": null,
      "outputs": [
        {
          "output_type": "stream",
          "text": [
            "(50000, 10)\n",
            "train accuracy:  0.60668\n"
          ],
          "name": "stdout"
        }
      ]
    },
    {
      "cell_type": "code",
      "metadata": {
        "id": "jOEaVlcHs2iW",
        "outputId": "f4cacf6a-edaf-4cb3-9b9c-cccd66ad8092",
        "colab": {
          "base_uri": "https://localhost:8080/",
          "height": 52
        }
      },
      "source": [
        "## shallow should be around 0.4 accuracy\n",
        "x_test_input = (x_test/ 255.0).astype(np.float32)\n",
        "\n",
        "y_prob = predict(x_test_input).numpy()\n",
        "\n",
        "print(y_prob.shape)\n",
        "y_pred = np.argmax(y_prob,axis=-1)\n",
        "print('test accuracy: ', np.sum(y_pred==y_test[:,0])/len(y_test))"
      ],
      "execution_count": null,
      "outputs": [
        {
          "output_type": "stream",
          "text": [
            "(10000, 10)\n",
            "test accuracy:  0.5523\n"
          ],
          "name": "stdout"
        }
      ]
    },
    {
      "cell_type": "code",
      "metadata": {
        "id": "LdCa9RFotCmI",
        "outputId": "84d8a044-010a-4cbd-f792-e63397b5515c",
        "colab": {
          "base_uri": "https://localhost:8080/",
          "height": 173
        }
      },
      "source": [
        "i=264\n",
        "\n",
        "\n",
        "label = y_test[i]\n",
        "image = x_test[i]\n",
        "plt.figure(figsize=(2,2))\n",
        "plt.grid(False)\n",
        "plt.title('True: %s, Predicted: %s (%d%% certainty)' % (labels[int(label)],labels[y_prob[i].argmax()],100*y_prob[i,y_prob[i].argmax()]))\n",
        "plt.imshow(image)\n",
        "plt.show()"
      ],
      "execution_count": null,
      "outputs": [
        {
          "output_type": "display_data",
          "data": {
            "image/png": "[encoded data removed]",
            "text/plain": [
              "<Figure size 144x144 with 1 Axes>"
            ]
          },
          "metadata": {
            "tags": [],
            "needs_background": "light"
          }
        }
      ]
    },
    {
      "cell_type": "code",
      "metadata": {
        "id": "SxtZlOmPtMQx"
      },
      "source": [],
      "execution_count": null,
      "outputs": []
    }
  ]
}